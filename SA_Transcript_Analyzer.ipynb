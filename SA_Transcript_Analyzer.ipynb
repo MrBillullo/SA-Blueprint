{
  "cells": [
    {
      "cell_type": "markdown",
      "metadata": {
        "id": "view-in-github",
        "colab_type": "text"
      },
      "source": [
        "<a href=\"https://colab.research.google.com/github/MrBillullo/SA-Blueprint/blob/main/SA_Transcript_Analyzer.ipynb\" target=\"_parent\"><img src=\"https://colab.research.google.com/assets/colab-badge.svg\" alt=\"Open In Colab\"/></a>"
      ]
    },
    {
      "cell_type": "code",
      "execution_count": 4,
      "metadata": {
        "collapsed": true,
        "id": "CeN1KI9YrF3H",
        "colab": {
          "base_uri": "https://localhost:8080/"
        },
        "outputId": "83ccb944-9a61-433b-a266-f850c703c419"
      },
      "outputs": [
        {
          "output_type": "stream",
          "name": "stdout",
          "text": [
            "Requirement already satisfied: streamlit in /usr/local/lib/python3.11/dist-packages (1.43.2)\n",
            "Requirement already satisfied: pyngrok in /usr/local/lib/python3.11/dist-packages (7.2.3)\n",
            "Requirement already satisfied: python-docx in /usr/local/lib/python3.11/dist-packages (1.1.2)\n",
            "Requirement already satisfied: altair<6,>=4.0 in /usr/local/lib/python3.11/dist-packages (from streamlit) (5.5.0)\n",
            "Requirement already satisfied: blinker<2,>=1.0.0 in /usr/local/lib/python3.11/dist-packages (from streamlit) (1.9.0)\n",
            "Requirement already satisfied: cachetools<6,>=4.0 in /usr/local/lib/python3.11/dist-packages (from streamlit) (5.5.2)\n",
            "Requirement already satisfied: click<9,>=7.0 in /usr/local/lib/python3.11/dist-packages (from streamlit) (8.1.8)\n",
            "Requirement already satisfied: numpy<3,>=1.23 in /usr/local/lib/python3.11/dist-packages (from streamlit) (2.0.2)\n",
            "Requirement already satisfied: packaging<25,>=20 in /usr/local/lib/python3.11/dist-packages (from streamlit) (24.2)\n",
            "Requirement already satisfied: pandas<3,>=1.4.0 in /usr/local/lib/python3.11/dist-packages (from streamlit) (2.2.2)\n",
            "Requirement already satisfied: pillow<12,>=7.1.0 in /usr/local/lib/python3.11/dist-packages (from streamlit) (11.1.0)\n",
            "Requirement already satisfied: protobuf<6,>=3.20 in /usr/local/lib/python3.11/dist-packages (from streamlit) (5.29.3)\n",
            "Requirement already satisfied: pyarrow>=7.0 in /usr/local/lib/python3.11/dist-packages (from streamlit) (18.1.0)\n",
            "Requirement already satisfied: requests<3,>=2.27 in /usr/local/lib/python3.11/dist-packages (from streamlit) (2.32.3)\n",
            "Requirement already satisfied: tenacity<10,>=8.1.0 in /usr/local/lib/python3.11/dist-packages (from streamlit) (9.0.0)\n",
            "Requirement already satisfied: toml<2,>=0.10.1 in /usr/local/lib/python3.11/dist-packages (from streamlit) (0.10.2)\n",
            "Requirement already satisfied: typing-extensions<5,>=4.4.0 in /usr/local/lib/python3.11/dist-packages (from streamlit) (4.12.2)\n",
            "Requirement already satisfied: watchdog<7,>=2.1.5 in /usr/local/lib/python3.11/dist-packages (from streamlit) (6.0.0)\n",
            "Requirement already satisfied: gitpython!=3.1.19,<4,>=3.0.7 in /usr/local/lib/python3.11/dist-packages (from streamlit) (3.1.44)\n",
            "Requirement already satisfied: pydeck<1,>=0.8.0b4 in /usr/local/lib/python3.11/dist-packages (from streamlit) (0.9.1)\n",
            "Requirement already satisfied: tornado<7,>=6.0.3 in /usr/local/lib/python3.11/dist-packages (from streamlit) (6.4.2)\n",
            "Requirement already satisfied: PyYAML>=5.1 in /usr/local/lib/python3.11/dist-packages (from pyngrok) (6.0.2)\n",
            "Requirement already satisfied: lxml>=3.1.0 in /usr/local/lib/python3.11/dist-packages (from python-docx) (5.3.1)\n",
            "Requirement already satisfied: jinja2 in /usr/local/lib/python3.11/dist-packages (from altair<6,>=4.0->streamlit) (3.1.6)\n",
            "Requirement already satisfied: jsonschema>=3.0 in /usr/local/lib/python3.11/dist-packages (from altair<6,>=4.0->streamlit) (4.23.0)\n",
            "Requirement already satisfied: narwhals>=1.14.2 in /usr/local/lib/python3.11/dist-packages (from altair<6,>=4.0->streamlit) (1.31.0)\n",
            "Requirement already satisfied: gitdb<5,>=4.0.1 in /usr/local/lib/python3.11/dist-packages (from gitpython!=3.1.19,<4,>=3.0.7->streamlit) (4.0.12)\n",
            "Requirement already satisfied: python-dateutil>=2.8.2 in /usr/local/lib/python3.11/dist-packages (from pandas<3,>=1.4.0->streamlit) (2.8.2)\n",
            "Requirement already satisfied: pytz>=2020.1 in /usr/local/lib/python3.11/dist-packages (from pandas<3,>=1.4.0->streamlit) (2025.1)\n",
            "Requirement already satisfied: tzdata>=2022.7 in /usr/local/lib/python3.11/dist-packages (from pandas<3,>=1.4.0->streamlit) (2025.1)\n",
            "Requirement already satisfied: charset-normalizer<4,>=2 in /usr/local/lib/python3.11/dist-packages (from requests<3,>=2.27->streamlit) (3.4.1)\n",
            "Requirement already satisfied: idna<4,>=2.5 in /usr/local/lib/python3.11/dist-packages (from requests<3,>=2.27->streamlit) (3.10)\n",
            "Requirement already satisfied: urllib3<3,>=1.21.1 in /usr/local/lib/python3.11/dist-packages (from requests<3,>=2.27->streamlit) (2.3.0)\n",
            "Requirement already satisfied: certifi>=2017.4.17 in /usr/local/lib/python3.11/dist-packages (from requests<3,>=2.27->streamlit) (2025.1.31)\n",
            "Requirement already satisfied: smmap<6,>=3.0.1 in /usr/local/lib/python3.11/dist-packages (from gitdb<5,>=4.0.1->gitpython!=3.1.19,<4,>=3.0.7->streamlit) (5.0.2)\n",
            "Requirement already satisfied: MarkupSafe>=2.0 in /usr/local/lib/python3.11/dist-packages (from jinja2->altair<6,>=4.0->streamlit) (3.0.2)\n",
            "Requirement already satisfied: attrs>=22.2.0 in /usr/local/lib/python3.11/dist-packages (from jsonschema>=3.0->altair<6,>=4.0->streamlit) (25.3.0)\n",
            "Requirement already satisfied: jsonschema-specifications>=2023.03.6 in /usr/local/lib/python3.11/dist-packages (from jsonschema>=3.0->altair<6,>=4.0->streamlit) (2024.10.1)\n",
            "Requirement already satisfied: referencing>=0.28.4 in /usr/local/lib/python3.11/dist-packages (from jsonschema>=3.0->altair<6,>=4.0->streamlit) (0.36.2)\n",
            "Requirement already satisfied: rpds-py>=0.7.1 in /usr/local/lib/python3.11/dist-packages (from jsonschema>=3.0->altair<6,>=4.0->streamlit) (0.23.1)\n",
            "Requirement already satisfied: six>=1.5 in /usr/local/lib/python3.11/dist-packages (from python-dateutil>=2.8.2->pandas<3,>=1.4.0->streamlit) (1.17.0)\n"
          ]
        }
      ],
      "source": [
        "!pip install streamlit pyngrok python-docx"
      ]
    },
    {
      "cell_type": "code",
      "execution_count": 5,
      "metadata": {
        "id": "EwJhGszQrIsY",
        "colab": {
          "base_uri": "https://localhost:8080/"
        },
        "outputId": "e266357c-1e11-4b26-be02-12947735a2f7"
      },
      "outputs": [
        {
          "output_type": "stream",
          "name": "stdout",
          "text": [
            "Overwriting app.py\n"
          ]
        }
      ],
      "source": [
        "%%writefile app.py\n",
        "import streamlit as st\n",
        "from datetime import datetime\n",
        "import ast\n",
        "import re\n",
        "from docx import Document\n",
        "import os\n",
        "\n",
        "st.set_page_config(page_title=\"🧠 Solution Engineering Blueprint\", layout=\"wide\")\n",
        "st.title(\"🧠 Solution Blueprint Intake Assistant\")\n",
        "\n",
        "st.sidebar.header(\"📥 Paste Pre-Filled Fields (Structured Format)\")\n",
        "st.sidebar.markdown(\"**Paste GPT output here to auto-fill all fields (Python dict format):**\")\n",
        "pre_filled_dict = st.sidebar.text_area(\"Paste Python Dictionary Here\")\n",
        "\n",
        "if st.sidebar.button(\"🧠 Load Fields\"):\n",
        "    try:\n",
        "        st.session_state.fields = ast.literal_eval(pre_filled_dict)\n",
        "        st.sidebar.success(\"Fields loaded successfully!\")\n",
        "    except Exception as e:\n",
        "        st.sidebar.error(f\"⚠️ Invalid dictionary format:\\n{e}\")\n",
        "elif \"fields\" not in st.session_state:\n",
        "    st.session_state.fields = {}\n",
        "\n",
        "data = st.session_state.fields\n",
        "\n",
        "def get(field, default=\"\"):\n",
        "    return data.get(field, default)\n",
        "\n",
        "# 🔍 Intake Form\n",
        "st.header(\"1. Project Info\")\n",
        "project_name = st.text_input(\"Project Name\", get(\"project_name\"))\n",
        "project_lead = st.text_input(\"Project Lead\", get(\"project_lead\"))\n",
        "start_date = st.date_input(\"Start Date\", datetime.strptime(get(\"start_date\", \"2025-01-01\"), \"%Y-%m-%d\"))\n",
        "end_date = st.date_input(\"End Date\", datetime.strptime(get(\"end_date\", \"2025-12-31\"), \"%Y-%m-%d\"))\n",
        "\n",
        "PHASE_1 = [\"stakeholders\", \"objectives\", \"existing_systems\", \"current_process\", \"pain_points\", \"constraints\", \"solution_ideas\", \"quick_vs_long_term\", \"business_impact\", \"risks_dependencies\"]\n",
        "PHASE_2 = [\"complexity\", \"analysis_tools\", \"solution_type\", \"success_metrics\", \"business_team_goals\", \"scalability\", \"prototyping\", \"feedback_process\", \"pros_cons\", \"workflow_changes\", \"compliance_standards\", \"approval_process\"]\n",
        "PHASE_3 = [\"assumptions\", \"connected_teams_systems\", \"future_growth\", \"integrations\", \"technical_challenges\", \"data_flow\", \"mvp_testing\", \"testing_approach\", \"change_management\", \"deployment_preference\", \"performance_tracking\", \"improvement_process\"]\n",
        "PHASE_4 = [\"user_experience\", \"long_term_support\", \"additional_stakeholders\", \"development_methodology\", \"success_criteria\", \"automation_opportunities\", \"security_ethics\", \"documentation_training\"]\n",
        "\n",
        "st.header(\"2. Understand the Problem\")\n",
        "responses_phase1 = {field: st.text_area(field.replace(\"_\", \" \").title(), get(field)) for field in PHASE_1}\n",
        "st.header(\"3. Analyze & Plan\")\n",
        "responses_phase2 = {field: st.text_area(field.replace(\"_\", \" \").title(), get(field)) for field in PHASE_2}\n",
        "st.header(\"4. Apply & Test\")\n",
        "responses_phase3 = {field: st.text_area(field.replace(\"_\", \" \").title(), get(field)) for field in PHASE_3}\n",
        "st.header(\"5. Make It Better\")\n",
        "responses_phase4 = {field: st.text_area(field.replace(\"_\", \" \").title(), get(field)) for field in PHASE_4}\n",
        "\n",
        "all_data = {\n",
        "    \"project_name\": project_name,\n",
        "    \"project_lead\": project_lead,\n",
        "    \"start_date\": str(start_date),\n",
        "    \"end_date\": str(end_date),\n",
        "    **responses_phase1,\n",
        "    **responses_phase2,\n",
        "    **responses_phase3,\n",
        "    **responses_phase4\n",
        "}\n",
        "\n",
        "def estimate_project_cost(data):\n",
        "    score = 0\n",
        "    if \"crm\" in data.get(\"integrations\", \"\").lower(): score += 1\n",
        "    if \"dashboard\" in data.get(\"solution_ideas\", \"\").lower(): score += 1\n",
        "    if \"private\" in data.get(\"user_experience\", \"\").lower(): score += 1\n",
        "    if \"analytics\" in data.get(\"success_metrics\", \"\").lower(): score += 1\n",
        "    if \"ai\" in data.get(\"solution_ideas\", \"\").lower() or \"chatbot\" in data.get(\"solution_ideas\", \"\").lower(): score += 1\n",
        "\n",
        "    if score <= 1:\n",
        "        tier = \"Tier 1\"\n",
        "        complexity = \"Low\"\n",
        "    elif score <= 3:\n",
        "        tier = \"Tier 2–3\"\n",
        "        complexity = \"Medium\"\n",
        "    else:\n",
        "        tier = \"Tier 4–5\"\n",
        "        complexity = \"High\"\n",
        "\n",
        "    industry_costs = {\n",
        "        \"Low\": (15000, 35000),\n",
        "        \"Medium\": (30000, 90000),\n",
        "        \"High\": (80000, 150000)\n",
        "    }\n",
        "\n",
        "    industry_min, industry_max = industry_costs[complexity]\n",
        "    adjusted_min = int(industry_min * 0.6)\n",
        "    adjusted_max = int(industry_max * 0.6)\n",
        "    hours_min = int(adjusted_min / 120)\n",
        "    hours_max = int(adjusted_max / 120)\n",
        "\n",
        "    return {\n",
        "        \"tier\": tier,\n",
        "        \"complexity\": complexity,\n",
        "        \"cost_range\": (adjusted_min, adjusted_max),\n",
        "        \"hours_range\": (hours_min, hours_max),\n",
        "        \"rate\": \"$120/hr\"\n",
        "    }\n",
        "\n",
        "cost_estimate = estimate_project_cost(all_data)\n",
        "\n",
        "def generate_docx_report(data, cost_estimate):\n",
        "    doc = Document()\n",
        "    doc.add_heading(\"Solution Engineering Blueprint Report\", 0)\n",
        "\n",
        "    doc.add_paragraph(f\"Project Name: {data.get('project_name')}\")\n",
        "    doc.add_paragraph(f\"Project Lead: {data.get('project_lead')}\")\n",
        "    doc.add_paragraph(f\"Start Date: {data.get('start_date')}\")\n",
        "    doc.add_paragraph(f\"End Date: {data.get('end_date')}\")\n",
        "    doc.add_paragraph(\"\")\n",
        "\n",
        "    def add_section(title, fields):\n",
        "        doc.add_heading(title, level=1)\n",
        "        for field in fields:\n",
        "            label = field.replace(\"_\", \" \").title()\n",
        "            value = data.get(field, \"\")\n",
        "            doc.add_paragraph(f\"{label}: {value}\", style=\"List Bullet\")\n",
        "\n",
        "    add_section(\"Phase 1: Understand the Problem\", PHASE_1)\n",
        "    add_section(\"Phase 2: Analyze & Plan\", PHASE_2)\n",
        "    add_section(\"Phase 3: Apply & Test\", PHASE_3)\n",
        "    add_section(\"Phase 4: Make It Better\", PHASE_4)\n",
        "\n",
        "    doc.add_heading(\"💰 Estimated Development Cost\", level=1)\n",
        "    doc.add_paragraph(f\"Tier: {cost_estimate['tier']}\")\n",
        "    doc.add_paragraph(f\"Complexity Level: {cost_estimate['complexity']}\")\n",
        "    doc.add_paragraph(f\"Estimated Cost Range: ${cost_estimate['cost_range'][0]:,} – ${cost_estimate['cost_range'][1]:,}\")\n",
        "    doc.add_paragraph(f\"Estimated Development Time: {cost_estimate['hours_range'][0]} – {cost_estimate['hours_range'][1]} hrs\")\n",
        "    doc.add_paragraph(f\"BillulloNex Rate: {cost_estimate['rate']}\")\n",
        "\n",
        "    doc.add_heading(\"📌 Pricing Methodology\", level=2)\n",
        "    doc.add_paragraph(\"This estimate is based on industry-standard benchmarks for application development by complexity:\")\n",
        "    doc.add_paragraph(\"- Low Complexity: $15,000–$35,000\")\n",
        "    doc.add_paragraph(\"- Medium Complexity: $30,000–$90,000\")\n",
        "    doc.add_paragraph(\"- High Complexity: $80,000–$150,000\")\n",
        "    doc.add_paragraph(\"\")\n",
        "    doc.add_paragraph(\"BillulloNex offers a 40% discount below market value. The estimate excludes additional markups or commissions.\")\n",
        "\n",
        "    filename = f\"{re.sub(r'[^a-zA-Z0-9_-]', '_', data.get('project_name', 'project'))}_Blueprint_Report.docx\"\n",
        "    doc.save(filename)\n",
        "    return filename\n",
        "\n",
        "# 📥 Export Button\n",
        "if st.button(\"📄 Generate Word Report\"):\n",
        "    file_path = generate_docx_report(all_data, cost_estimate)\n",
        "    with open(file_path, \"rb\") as f:\n",
        "        st.download_button(\n",
        "            label=\"📥 Download Word Report (.docx)\",\n",
        "            data=f,\n",
        "            file_name=os.path.basename(file_path),\n",
        "\n",
        "            mime=\"application/vnd.openxmlformats-officedocument.wordprocessingml.document\"\n",
        "        )"
      ]
    },
    {
      "cell_type": "code",
      "source": [
        "!ngrok config add-authtoken 2ugBLaE3nBcLJ2pjhGxo7x7Xxos_2n2Ja2ct2BNdBujbKwzp3"
      ],
      "metadata": {
        "colab": {
          "base_uri": "https://localhost:8080/"
        },
        "id": "Wk5PFn_oQyJs",
        "outputId": "ab29c58c-e6d4-476b-98e2-301a4d50314e"
      },
      "execution_count": 6,
      "outputs": [
        {
          "output_type": "stream",
          "name": "stdout",
          "text": [
            "Authtoken saved to configuration file: /root/.config/ngrok/ngrok.yml\n"
          ]
        }
      ]
    },
    {
      "cell_type": "code",
      "execution_count": 7,
      "metadata": {
        "id": "RoTYIc9NrVBb",
        "colab": {
          "base_uri": "https://localhost:8080/"
        },
        "outputId": "520b1058-e39c-43e8-944b-d236b06b9394"
      },
      "outputs": [
        {
          "output_type": "stream",
          "name": "stdout",
          "text": [
            "🌐 Streamlit app is live at: NgrokTunnel: \"https://20a4-34-91-15-102.ngrok-free.app\" -> \"http://localhost:8501\"\n"
          ]
        }
      ],
      "source": [
        "from pyngrok import ngrok\n",
        "import threading\n",
        "import time\n",
        "import os\n",
        "\n",
        "# Kill any existing tunnels\n",
        "ngrok.kill()\n",
        "\n",
        "# Start Streamlit in background\n",
        "def run():\n",
        "    os.system(\"streamlit run app.py\")\n",
        "\n",
        "thread = threading.Thread(target=run)\n",
        "thread.start()\n",
        "time.sleep(5)\n",
        "\n",
        "# Create ngrok tunnel\n",
        "public_url = ngrok.connect(8501)\n",
        "print(\"🌐 Streamlit app is live at:\", public_url)"
      ]
    }
  ],
  "metadata": {
    "colab": {
      "provenance": [],
      "authorship_tag": "ABX9TyOWZsZzqMQCbOqjHcBDmQzM",
      "include_colab_link": true
    },
    "kernelspec": {
      "display_name": "Python 3",
      "name": "python3"
    },
    "language_info": {
      "name": "python"
    }
  },
  "nbformat": 4,
  "nbformat_minor": 0
}